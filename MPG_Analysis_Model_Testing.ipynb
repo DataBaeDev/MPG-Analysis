{
  "nbformat": 4,
  "nbformat_minor": 0,
  "metadata": {
    "colab": {
      "provenance": [],
      "include_colab_link": true
    },
    "kernelspec": {
      "name": "python3",
      "display_name": "Python 3"
    },
    "language_info": {
      "name": "python"
    }
  },
  "cells": [
    {
      "cell_type": "markdown",
      "metadata": {
        "id": "view-in-github",
        "colab_type": "text"
      },
      "source": [
        "<a href=\"https://colab.research.google.com/github/DataBaeDev/MPG-Analysis/blob/main/MPG_Analysis_Model_Testing.ipynb\" target=\"_parent\"><img src=\"https://colab.research.google.com/assets/colab-badge.svg\" alt=\"Open In Colab\"/></a>"
      ]
    },
    {
      "cell_type": "markdown",
      "source": [
        "## Import libraries & models"
      ],
      "metadata": {
        "id": "B7HlrPV6xRKX"
      }
    },
    {
      "cell_type": "code",
      "source": [
        "import numpy as np\n",
        "import random\n",
        "import pickle\n",
        "\n",
        "from sklearn.linear_model import LinearRegression\n",
        "from sklearn.tree import DecisionTreeRegressor\n",
        "from sklearn.ensemble import RandomForestRegressor\n",
        "from xgboost import XGBRegressor"
      ],
      "metadata": {
        "id": "2_TgmsrMxTmK"
      },
      "execution_count": 1,
      "outputs": []
    },
    {
      "cell_type": "code",
      "source": [
        "from google.colab import drive\n",
        "drive.mount('/content/drive')"
      ],
      "metadata": {
        "colab": {
          "base_uri": "https://localhost:8080/"
        },
        "id": "sptHERVKl2WA",
        "outputId": "5f21803d-b28e-4aa9-8eaa-67b0bc062994"
      },
      "execution_count": 2,
      "outputs": [
        {
          "output_type": "stream",
          "name": "stdout",
          "text": [
            "Mounted at /content/drive\n"
          ]
        }
      ]
    },
    {
      "cell_type": "code",
      "source": [
        "Linear_Reg_Model = pickle.load(open(r\"/content/drive/MyDrive/Predictive Analytics/MPG Analysis/Linear_Regression_Model_.pkl\", 'rb'))\n",
        "Decision_Tree_Model = pickle.load(open(r'/content/drive/MyDrive/Predictive Analytics/MPG Analysis/Decision_Tree_Model_.pkl', 'rb'))\n",
        "Rand_Forest_Model = pickle.load(open(r\"/content/drive/MyDrive/Predictive Analytics/MPG Analysis/Random_Forest_Model_.pkl\", 'rb'))\n",
        "XGB_Reg_Model = pickle.load(open(r\"/content/drive/MyDrive/Predictive Analytics/MPG Analysis/XGB_Regressor_Model_.pkl\", 'rb'))\n",
        "\n",
        "model_list = [Linear_Reg_Model ,Decision_Tree_Model,  Rand_Forest_Model, XGB_Reg_Model]"
      ],
      "metadata": {
        "id": "FZ4aFAgSkzg0"
      },
      "execution_count": 3,
      "outputs": []
    },
    {
      "cell_type": "markdown",
      "source": [
        "## Generate sample values to use in the models"
      ],
      "metadata": {
        "id": "fe11gaVCmMLx"
      }
    },
    {
      "cell_type": "code",
      "source": [
        "cylinders = random.randint(3, 8)\n",
        "displacement = round(random.uniform(68, 455), 2)\n",
        "horsepower = round(random.uniform(46, 230), 2)\n",
        "weight = round(random.uniform(1613, 5140), 2)\n",
        "acceleration = round(random.uniform(8, 24.8), 2)\n",
        "year = random.randint(70, 82)\n",
        "origin = random.randint(1, 3)\n",
        "\n",
        "param_list = ['cylinders' , 'displacement',  'horsepower' , 'weight', 'acceleration', 'year', 'origin']\n",
        "sample_vehicle = np.array([[cylinders, displacement, horsepower, weight, acceleration, year, origin]])\n"
      ],
      "metadata": {
        "id": "jvwLFvW2Gist"
      },
      "execution_count": 4,
      "outputs": []
    },
    {
      "cell_type": "code",
      "source": [
        "print(\"Values for sample vehicle:\")\n",
        "for num in range(len(param_list)):\n",
        "  print(param_list[num], \": \", sample_vehicle[0, num])"
      ],
      "metadata": {
        "colab": {
          "base_uri": "https://localhost:8080/"
        },
        "id": "GfT83jSnmei5",
        "outputId": "53872732-4d28-451f-b5fe-e821b89a9d22"
      },
      "execution_count": 5,
      "outputs": [
        {
          "output_type": "stream",
          "name": "stdout",
          "text": [
            "Values for sample vehicle:\n",
            "cylinders :  7.0\n",
            "displacement :  88.83\n",
            "horsepower :  59.7\n",
            "weight :  4840.59\n",
            "acceleration :  12.89\n",
            "year :  72.0\n",
            "origin :  2.0\n"
          ]
        }
      ]
    },
    {
      "cell_type": "code",
      "source": [
        "for model in model_list:\n",
        "  prediction = model.predict(sample_vehicle)\n",
        "  print(f'The {model} predicts {round(float(prediction[0]), 2)} mpg.')"
      ],
      "metadata": {
        "colab": {
          "base_uri": "https://localhost:8080/"
        },
        "id": "ulT_oq7nznUk",
        "outputId": "87e54d99-d68f-4973-e8bd-cc1c98815a20"
      },
      "execution_count": 7,
      "outputs": [
        {
          "output_type": "stream",
          "name": "stdout",
          "text": [
            "The LinearRegression() predicts 4.77 mpg.\n",
            "The DecisionTreeRegressor() predicts 23.0 mpg.\n",
            "The RandomForestRegressor() predicts 18.83 mpg.\n",
            "The XGBRegressor(base_score=None, booster=None, callbacks=None,\n",
            "             colsample_bylevel=None, colsample_bynode=None,\n",
            "             colsample_bytree=None, device=None, early_stopping_rounds=None,\n",
            "             enable_categorical=False, eval_metric=None, feature_types=None,\n",
            "             gamma=None, grow_policy=None, importance_type=None,\n",
            "             interaction_constraints=None, learning_rate=None, max_bin=None,\n",
            "             max_cat_threshold=None, max_cat_to_onehot=None,\n",
            "             max_delta_step=None, max_depth=None, max_leaves=None,\n",
            "             min_child_weight=None, missing=nan, monotone_constraints=None,\n",
            "             multi_strategy=None, n_estimators=None, n_jobs=None,\n",
            "             num_parallel_tree=None, random_state=None, ...) predicts 16.33 mpg.\n"
          ]
        }
      ]
    }
  ]
}